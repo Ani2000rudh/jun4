{
 "cells": [
  {
   "cell_type": "code",
   "execution_count": 1,
   "id": "d716a8f9-6500-4a96-9d56-5775770b039b",
   "metadata": {},
   "outputs": [
    {
     "data": {
      "text/plain": [
       "'robablity Mass function id defined for \" descrete random variable\" where the random variable is plotted along x axis\\nand probabilty is plotted along Y axis. eg in rolling of dies let X be the random variable associated with the out come from (1 to 6)\\nand probality of its occerence (1/6) along y axis.\\n\\nprobablity density function is defined for \" continous random variable\" eher the ransom variable is plotted along x axis \\neg; height of students in college '"
      ]
     },
     "execution_count": 1,
     "metadata": {},
     "output_type": "execute_result"
    }
   ],
   "source": [
    "#Q1: What are the Probability Mass Function (PMF) and Probability Density Function (PDF)? Explain withan example.\n",
    "\n",
    "\n",
    "'''robablity Mass function id defined for \" descrete random variable\" where the random variable is plotted along x axis\n",
    "and probabilty is plotted along Y axis. eg in rolling of dies let X be the random variable associated with the out come from (1 to 6)\n",
    "and probality of its occerence (1/6) along y axis.\n",
    "\n",
    "probablity density function is defined for \" continous random variable\" eher the ransom variable is plotted along x axis \n",
    "eg; height of students in college '''"
   ]
  },
  {
   "cell_type": "code",
   "execution_count": null,
   "id": "c093caea-1da2-4936-b7b2-80b69f14e117",
   "metadata": {},
   "outputs": [],
   "source": [
    "#Q2: What is Cumulative Density Function (CDF)? Explain with an example. Why CDF is used?\n",
    "\n",
    "\n",
    "\"\"\"cummilative density function gives sum of probablity upto desired level:\n",
    "    eg in rolling of dies ; prabablity for the outcome is less then 4\n",
    "    prob(x<4) =p(1)+p(2)+p(3)\n",
    "    it is used for Calculating Probabilities,Determining Percentiles etc \"\"\""
   ]
  },
  {
   "cell_type": "code",
   "execution_count": null,
   "id": "7bab4dc6-acee-44d2-8836-f9a6327497b5",
   "metadata": {},
   "outputs": [],
   "source": [
    "#Q3: What are some examples of situations where the normal distribution might be used as a model?Explain how the parameters of the normal distribution relate to the shape of the distribution\n",
    "\n",
    "\n",
    "\n",
    "\"\"\"a normal distribution or gaussian distribution is obtained when the random variable associated is descrete i.e PDF and no of samples are very high\n",
    "it usally looks like a bell curve with#Q3: What are some examples of situations where the normal distribution might be used as a model?Explain how the parameters of the normal distribution relate to the shape of the distribution. mean at min skewd region  and variance shows \n",
    "how data is spreaded from mean but for standard normal distribution mean =0 std =1\"\"\"."
   ]
  },
  {
   "cell_type": "code",
   "execution_count": null,
   "id": "1bf14f80-79f1-4e6f-88c6-0216fe5136a3",
   "metadata": {},
   "outputs": [],
   "source": []
  },
  {
   "cell_type": "code",
   "execution_count": null,
   "id": "b991b1d9-9d15-40b9-b4df-3f7cdc4f102f",
   "metadata": {},
   "outputs": [],
   "source": []
  },
  {
   "cell_type": "code",
   "execution_count": null,
   "id": "27b4ce8c-00ab-42fa-85ce-68d4653dc609",
   "metadata": {},
   "outputs": [],
   "source": []
  },
  {
   "cell_type": "code",
   "execution_count": null,
   "id": "bc5689d6-6901-4fda-8105-55b0bfb03994",
   "metadata": {},
   "outputs": [],
   "source": []
  },
  {
   "cell_type": "code",
   "execution_count": null,
   "id": "09a3aceb-319d-41df-9f86-9d0824011811",
   "metadata": {},
   "outputs": [],
   "source": []
  },
  {
   "cell_type": "code",
   "execution_count": null,
   "id": "c0c084d0-e691-4649-bba8-a64bcadbfcdd",
   "metadata": {},
   "outputs": [],
   "source": []
  },
  {
   "cell_type": "code",
   "execution_count": null,
   "id": "fd527e59-d66c-49fa-a724-02a4359eddbf",
   "metadata": {},
   "outputs": [],
   "source": []
  },
  {
   "cell_type": "code",
   "execution_count": null,
   "id": "e0439e19-6793-4846-b53d-d10da3e700da",
   "metadata": {},
   "outputs": [],
   "source": []
  },
  {
   "cell_type": "code",
   "execution_count": null,
   "id": "8cd122d7-de4e-4cf4-9b59-0ad6781659c0",
   "metadata": {},
   "outputs": [],
   "source": []
  },
  {
   "cell_type": "code",
   "execution_count": null,
   "id": "8e4363bb-a45b-4f09-ba6a-a9db77268fa8",
   "metadata": {},
   "outputs": [],
   "source": []
  },
  {
   "cell_type": "code",
   "execution_count": null,
   "id": "e642b25c-3a4b-49a5-8124-0269a61b3b81",
   "metadata": {},
   "outputs": [],
   "source": []
  }
 ],
 "metadata": {
  "kernelspec": {
   "display_name": "Python 3 (ipykernel)",
   "language": "python",
   "name": "python3"
  },
  "language_info": {
   "codemirror_mode": {
    "name": "ipython",
    "version": 3
   },
   "file_extension": ".py",
   "mimetype": "text/x-python",
   "name": "python",
   "nbconvert_exporter": "python",
   "pygments_lexer": "ipython3",
   "version": "3.10.8"
  }
 },
 "nbformat": 4,
 "nbformat_minor": 5
}
